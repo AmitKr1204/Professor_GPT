{
 "cells": [
  {
   "cell_type": "code",
   "execution_count": 1,
   "id": "e0a605f8",
   "metadata": {},
   "outputs": [
    {
     "name": "stdout",
     "output_type": "stream",
     "text": [
      "Requirement already satisfied: google-generativeai in c:\\users\\amit kumar\\anaconda3\\envs\\mletoe\\lib\\site-packages (0.8.5)\n",
      "Requirement already satisfied: google-ai-generativelanguage==0.6.15 in c:\\users\\amit kumar\\anaconda3\\envs\\mletoe\\lib\\site-packages (from google-generativeai) (0.6.15)\n",
      "Requirement already satisfied: google-api-core in c:\\users\\amit kumar\\anaconda3\\envs\\mletoe\\lib\\site-packages (from google-generativeai) (2.25.1)\n",
      "Requirement already satisfied: google-api-python-client in c:\\users\\amit kumar\\anaconda3\\envs\\mletoe\\lib\\site-packages (from google-generativeai) (2.176.0)\n",
      "Requirement already satisfied: google-auth>=2.15.0 in c:\\users\\amit kumar\\anaconda3\\envs\\mletoe\\lib\\site-packages (from google-generativeai) (2.40.3)\n",
      "Requirement already satisfied: protobuf in c:\\users\\amit kumar\\anaconda3\\envs\\mletoe\\lib\\site-packages (from google-generativeai) (5.29.5)\n",
      "Requirement already satisfied: pydantic in c:\\users\\amit kumar\\anaconda3\\envs\\mletoe\\lib\\site-packages (from google-generativeai) (2.11.7)\n",
      "Requirement already satisfied: tqdm in c:\\users\\amit kumar\\anaconda3\\envs\\mletoe\\lib\\site-packages (from google-generativeai) (4.67.1)\n",
      "Requirement already satisfied: typing-extensions in c:\\users\\amit kumar\\anaconda3\\envs\\mletoe\\lib\\site-packages (from google-generativeai) (4.13.2)\n",
      "Requirement already satisfied: proto-plus<2.0.0dev,>=1.22.3 in c:\\users\\amit kumar\\anaconda3\\envs\\mletoe\\lib\\site-packages (from google-ai-generativelanguage==0.6.15->google-generativeai) (1.26.1)\n",
      "Requirement already satisfied: googleapis-common-protos<2.0.0,>=1.56.2 in c:\\users\\amit kumar\\anaconda3\\envs\\mletoe\\lib\\site-packages (from google-api-core->google-generativeai) (1.70.0)\n",
      "Requirement already satisfied: requests<3.0.0,>=2.18.0 in c:\\users\\amit kumar\\anaconda3\\envs\\mletoe\\lib\\site-packages (from google-api-core->google-generativeai) (2.32.4)\n",
      "Requirement already satisfied: cachetools<6.0,>=2.0.0 in c:\\users\\amit kumar\\anaconda3\\envs\\mletoe\\lib\\site-packages (from google-auth>=2.15.0->google-generativeai) (5.5.2)\n",
      "Requirement already satisfied: pyasn1-modules>=0.2.1 in c:\\users\\amit kumar\\anaconda3\\envs\\mletoe\\lib\\site-packages (from google-auth>=2.15.0->google-generativeai) (0.4.2)\n",
      "Requirement already satisfied: rsa<5,>=3.1.4 in c:\\users\\amit kumar\\anaconda3\\envs\\mletoe\\lib\\site-packages (from google-auth>=2.15.0->google-generativeai) (4.9.1)\n",
      "Requirement already satisfied: httplib2<1.0.0,>=0.19.0 in c:\\users\\amit kumar\\anaconda3\\envs\\mletoe\\lib\\site-packages (from google-api-python-client->google-generativeai) (0.22.0)\n",
      "Requirement already satisfied: google-auth-httplib2<1.0.0,>=0.2.0 in c:\\users\\amit kumar\\anaconda3\\envs\\mletoe\\lib\\site-packages (from google-api-python-client->google-generativeai) (0.2.0)\n",
      "Requirement already satisfied: uritemplate<5,>=3.0.1 in c:\\users\\amit kumar\\anaconda3\\envs\\mletoe\\lib\\site-packages (from google-api-python-client->google-generativeai) (4.2.0)\n",
      "Requirement already satisfied: annotated-types>=0.6.0 in c:\\users\\amit kumar\\anaconda3\\envs\\mletoe\\lib\\site-packages (from pydantic->google-generativeai) (0.7.0)\n",
      "Requirement already satisfied: pydantic-core==2.33.2 in c:\\users\\amit kumar\\anaconda3\\envs\\mletoe\\lib\\site-packages (from pydantic->google-generativeai) (2.33.2)\n",
      "Requirement already satisfied: typing-inspection>=0.4.0 in c:\\users\\amit kumar\\anaconda3\\envs\\mletoe\\lib\\site-packages (from pydantic->google-generativeai) (0.4.1)\n",
      "Requirement already satisfied: colorama in c:\\users\\amit kumar\\anaconda3\\envs\\mletoe\\lib\\site-packages (from tqdm->google-generativeai) (0.4.6)\n",
      "Requirement already satisfied: grpcio<2.0.0,>=1.33.2 in c:\\users\\amit kumar\\anaconda3\\envs\\mletoe\\lib\\site-packages (from google-api-core[grpc]!=2.0.*,!=2.1.*,!=2.10.*,!=2.2.*,!=2.3.*,!=2.4.*,!=2.5.*,!=2.6.*,!=2.7.*,!=2.8.*,!=2.9.*,<3.0.0dev,>=1.34.1->google-ai-generativelanguage==0.6.15->google-generativeai) (1.73.1)\n",
      "Requirement already satisfied: grpcio-status<2.0.0,>=1.33.2 in c:\\users\\amit kumar\\anaconda3\\envs\\mletoe\\lib\\site-packages (from google-api-core[grpc]!=2.0.*,!=2.1.*,!=2.10.*,!=2.2.*,!=2.3.*,!=2.4.*,!=2.5.*,!=2.6.*,!=2.7.*,!=2.8.*,!=2.9.*,<3.0.0dev,>=1.34.1->google-ai-generativelanguage==0.6.15->google-generativeai) (1.71.2)\n",
      "Requirement already satisfied: pyparsing!=3.0.0,!=3.0.1,!=3.0.2,!=3.0.3,<4,>=2.4.2 in c:\\users\\amit kumar\\anaconda3\\envs\\mletoe\\lib\\site-packages (from httplib2<1.0.0,>=0.19.0->google-api-python-client->google-generativeai) (3.2.3)\n",
      "Requirement already satisfied: pyasn1<0.7.0,>=0.6.1 in c:\\users\\amit kumar\\anaconda3\\envs\\mletoe\\lib\\site-packages (from pyasn1-modules>=0.2.1->google-auth>=2.15.0->google-generativeai) (0.6.1)\n",
      "Requirement already satisfied: charset_normalizer<4,>=2 in c:\\users\\amit kumar\\anaconda3\\envs\\mletoe\\lib\\site-packages (from requests<3.0.0,>=2.18.0->google-api-core->google-generativeai) (3.4.2)\n",
      "Requirement already satisfied: idna<4,>=2.5 in c:\\users\\amit kumar\\anaconda3\\envs\\mletoe\\lib\\site-packages (from requests<3.0.0,>=2.18.0->google-api-core->google-generativeai) (3.10)\n",
      "Requirement already satisfied: urllib3<3,>=1.21.1 in c:\\users\\amit kumar\\anaconda3\\envs\\mletoe\\lib\\site-packages (from requests<3.0.0,>=2.18.0->google-api-core->google-generativeai) (2.5.0)\n",
      "Requirement already satisfied: certifi>=2017.4.17 in c:\\users\\amit kumar\\anaconda3\\envs\\mletoe\\lib\\site-packages (from requests<3.0.0,>=2.18.0->google-api-core->google-generativeai) (2025.7.14)\n"
     ]
    }
   ],
   "source": [
    "!pip install --upgrade google-generativeai\n",
    "\n"
   ]
  },
  {
   "cell_type": "code",
   "execution_count": 2,
   "id": "c98384b4",
   "metadata": {},
   "outputs": [
    {
     "name": "stderr",
     "output_type": "stream",
     "text": [
      "c:\\Users\\Amit Kumar\\anaconda3\\envs\\mletoe\\Lib\\site-packages\\tqdm\\auto.py:21: TqdmWarning: IProgress not found. Please update jupyter and ipywidgets. See https://ipywidgets.readthedocs.io/en/stable/user_install.html\n",
      "  from .autonotebook import tqdm as notebook_tqdm\n"
     ]
    }
   ],
   "source": [
    "import google.generativeai as genai "
   ]
  },
  {
   "cell_type": "code",
   "execution_count": 3,
   "id": "6570001a",
   "metadata": {},
   "outputs": [
    {
     "name": "stdout",
     "output_type": "stream",
     "text": [
      "Requirement already satisfied: python-dotenv in c:\\users\\amit kumar\\anaconda3\\envs\\mletoe\\lib\\site-packages (1.1.1)\n"
     ]
    }
   ],
   "source": [
    "!pip install python-dotenv\n",
    "from dotenv import load_dotenv\n",
    "import os\n",
    "import google.generativeai as genai\n",
    "\n",
    "load_dotenv()\n",
    "api_key = os.getenv(\"GEMINI_API_KEY\")\n",
    "genai.configure(api_key=api_key)\n"
   ]
  },
  {
   "cell_type": "code",
   "execution_count": 4,
   "id": "61f12175",
   "metadata": {},
   "outputs": [],
   "source": [
    "model = genai.GenerativeModel(\"gemini-2.5-flash-lite-preview-06-17\")"
   ]
  },
  {
   "cell_type": "code",
   "execution_count": 5,
   "id": "fede0e7d",
   "metadata": {},
   "outputs": [],
   "source": [
    "userrole = \"user\""
   ]
  },
  {
   "cell_type": "code",
   "execution_count": 6,
   "id": "5f6489f0",
   "metadata": {},
   "outputs": [],
   "source": [
    "prompt = \"suggest me three names for a baby girl.\""
   ]
  },
  {
   "cell_type": "code",
   "execution_count": 7,
   "id": "8f77b58a",
   "metadata": {},
   "outputs": [],
   "source": [
    "response = model.generate_content(prompt)"
   ]
  },
  {
   "cell_type": "code",
   "execution_count": 8,
   "id": "492b4f0e",
   "metadata": {},
   "outputs": [],
   "source": [
    "# for m in genai.list_models():\n",
    "#     print(m.name)\n",
    "#     print(\"  generation:\", m.supported_generation_methods)"
   ]
  },
  {
   "cell_type": "code",
   "execution_count": 9,
   "id": "4e99228c",
   "metadata": {},
   "outputs": [],
   "source": [
    "text = response.candidates[0].content.parts[0].text  \n"
   ]
  },
  {
   "cell_type": "code",
   "execution_count": 10,
   "id": "3bb15ed0",
   "metadata": {},
   "outputs": [
    {
     "data": {
      "text/plain": [
       "'Here are three baby girl name suggestions, aiming for a mix of popular, classic, and unique sounds:\\n\\n1.  **Eleanor:** A timeless and elegant name with French and English origins, meaning \"light\" or \"bright.\" It has a classic feel but is experiencing a resurgence in popularity.\\n\\n2.  **Aurora:** A beautiful and mystical name with Latin origins, meaning \"dawn.\" It evokes images of sunrise, natural beauty, and a sense of new beginnings.\\n\\n3.  **Eliza:** A sweet and sophisticated name that\\'s a charming variation of Elizabeth. It has Hebrew origins and means \"my God is abundance.\" It\\'s familiar yet feels fresh and spirited.'"
      ]
     },
     "execution_count": 10,
     "metadata": {},
     "output_type": "execute_result"
    }
   ],
   "source": [
    "text"
   ]
  },
  {
   "cell_type": "code",
   "execution_count": null,
   "id": "44799ec2",
   "metadata": {},
   "outputs": [],
   "source": []
  },
  {
   "cell_type": "code",
   "execution_count": null,
   "id": "7cf0e3a6",
   "metadata": {},
   "outputs": [],
   "source": []
  }
 ],
 "metadata": {
  "kernelspec": {
   "display_name": "mletoe",
   "language": "python",
   "name": "python3"
  },
  "language_info": {
   "codemirror_mode": {
    "name": "ipython",
    "version": 3
   },
   "file_extension": ".py",
   "mimetype": "text/x-python",
   "name": "python",
   "nbconvert_exporter": "python",
   "pygments_lexer": "ipython3",
   "version": "3.12.4"
  }
 },
 "nbformat": 4,
 "nbformat_minor": 5
}
